{
  "nbformat": 4,
  "nbformat_minor": 0,
  "metadata": {
    "colab": {
      "provenance": []
    },
    "kernelspec": {
      "name": "python3",
      "display_name": "Python 3"
    },
    "language_info": {
      "name": "python"
    }
  },
  "cells": [
    {
      "cell_type": "code",
      "source": [
        "input_data = \"\"\"\n",
        "Montse Jimenez\n",
        "user: montse.jimenez@comdatagroup.com\n",
        "Virginia Grijalba\n",
        "user: virginia.grijalba@comdatagroup.com\n",
        "Luis Javier Herrera\n",
        "user: javier.herrera@comdatagroup.com\n",
        "Recepción Viladecans\n",
        "user: recepcionviladecans@grupokonecta.com\n",
        "\"\"\"\n",
        "\n",
        "input_data2 = \"\"\"\n",
        "MARIA TERESA RIVERA RODRIGUEZ\n",
        "user: mriver38@corp.vodafone.es\n",
        "NAZARET ESCAMILLA ARCOS\n",
        "user: nescami2@corp.vodafone.es\n",
        "ELENA GUTIERREZ RODRIGUEZ\n",
        "user: egutie15@corp.vodafone.es\n",
        "MARIA DEL CARMEN RODRIGUEZ FERNANDEZ\n",
        "user: mrfernaa@corp.vodafone.es\n",
        "ELENA HOYOS MUÑOZ\n",
        "user: ehoyosm@corp.vodafone.es\n",
        "MANUELA FORTE SANCHEZ\n",
        "user: mfortes1@corp.vodafone.es\n",
        "ANTONIO MIGUEL ALVAREZ MORENO\n",
        "user: aamoren2@corp.vodafone.es\n",
        "MARIA DEL CARMEN BARBA GAYOSO\n",
        "user: mbarbag@corp.vodafone.es\n",
        "RAQUEL FRANCO CABRERIZO\n",
        "user: rfranco@grupokonecta.com\n",
        "MARIA TERESA GOMEZ LOPEZ\n",
        "user: maria.lopezg@grupokonecta.com\n",
        "ANA MARTIN MACHO\n",
        "user: ana.martin@grupokonecta.com\n",
        "SANDRA ARCE GARCIA\n",
        "user: sandra.arce@grupokonecta.com\n",
        "PEDRO LOPEZ IBAÑEZ\n",
        "user: plopezi@grupokonecta.com\n",
        "PABLO RISOTO MANZANARES\n",
        "user: prisotom@grupokonecta.com\n",
        "MARIA DEL MAR DIAZ CAMACHO\n",
        "user: mdcamacho@grupokonecta.com\n",
        "MARGARITA CARDENAL REYMONDE\n",
        "user: mcardenal@grupokonecta.com\n",
        "INMACULADA FERNANDEZ RUIZ\n",
        "user: ifernandezr@grupokonecta.com\n",
        "MARIA ROSARIO DIAZ JARDUO\n",
        "user: rdiazj@grupokonecta.com\n",
        "AUXILIADORA ORTIZ GARRIDO\n",
        "user: auxiliadora.ortiz@grupokonecta.com\n",
        "JORGE MANUEL SANCHEZ SANCHEZ-PALENCIA\n",
        "user: jorge.sanchezp@grupokonecta.com\n",
        "\"\"\"\n",
        "\n",
        "lines = input_data.strip().split(\"\\n\")                   #Remove spaces at the end and beginning with split.\n",
        "                                                         #Split the text in lines, separated for each /n.\n",
        "names_users = []\n",
        "\n",
        "for line in range(0, len(lines), 2):                     #For every 2 lines (name, user) in the input_data.\n",
        "    name = lines[line].strip()                           #Name will be the first line.\n",
        "    user = lines[line+1].strip().split(\":\")[1].strip()   #user will be the second line.\n",
        "    names_users.append((name, user))                     #Ever name-user pair will be a set in the names_users list.\n",
        "\n",
        "print(\"names_users =\", names_users)"
      ],
      "metadata": {
        "id": "WbBgnI31_FrW",
        "colab": {
          "base_uri": "https://localhost:8080/"
        },
        "outputId": "bb2877f2-959b-4d6e-dc1c-8c6811558844"
      },
      "execution_count": 1,
      "outputs": [
        {
          "output_type": "stream",
          "name": "stdout",
          "text": [
            "names_users = [('Montse Jimenez', 'montse.jimenez@comdatagroup.com'), ('Virginia Grijalba', 'virginia.grijalba@comdatagroup.com'), ('Luis Javier Herrera', 'javier.herrera@comdatagroup.com'), ('Recepción Viladecans', 'recepcionviladecans@grupokonecta.com')]\n"
          ]
        }
      ]
    },
    {
      "cell_type": "code",
      "source": [
        "for name, user in names_users:                          #For each name and user set\n",
        "    name_parts = name.split()                           #Split the name field into elements\n",
        "    first_name = name_parts[0]                          #First name will be the first element\n",
        "    last_name = name_parts[-1]                          #Last name will be the last element\n",
        "    if len(name_parts) > 2 AND len(name_parts) < 4:                             #If the name field contains 3 elements, 1st name will be the 1st and 2nd element.\n",
        "        first_name = f'\"{name_parts[0]} {name_parts[1]}\"'\n",
        "\n",
        "    if len(name_parts) = 4:                             #If the name field contains 4 elements, 1st name will be the 1st and 2nd element.\n",
        "        first_name = f'\"{name_parts[0]} {name_parts[1]}\"'\n",
        "        last_name = f'\"{name_parts[-2]} {name_parts[-1]}\"'\n",
        "\n",
        "    if len(name_parts) = 5:                             #If the name field contains 5 elements, 1st name will be the 1st and 2nd element.\n",
        "        first_name = f'\"{name_parts[0]} {name_parts[1]}{name_parts[2]}\"'\n",
        "        last_name = f'\"{name_parts[-2]} {name_parts[-1]}\"'\n",
        "\n",
        "    command = (\"/opt/otrs/bin/otrs.Console.pl Admin::CustomerUser::Add\"  #Adding the params to the customer user add command\n",
        "               f\" --user-name {user}\"\n",
        "               f\" --first-name {first_name}\"\n",
        "               f\" --last-name {last_name}\"\n",
        "               f\" --email-address {user}\"\n",
        "               ' --customer-id \"KONECTA ESPAÑA\"'\n",
        "               '\" --password Konectaespaña2023\"')\n",
        "    print(command)"
      ],
      "metadata": {
        "id": "O0LTCfpWAbTD",
        "colab": {
          "base_uri": "https://localhost:8080/"
        },
        "outputId": "298ee2ab-9df6-41ee-f8c5-2daaf725d6b1"
      },
      "execution_count": 2,
      "outputs": [
        {
          "output_type": "stream",
          "name": "stdout",
          "text": [
            "/opt/otrs/bin/otrs.Console.pl Admin::CustomerUser::Add --user-name montse.jimenez@comdatagroup.com --first-name Montse --last-name Jimenez --email-address montse.jimenez@comdatagroup.com --customer-id \"KONECTA ESPAÑA\"\" --password Konectaespaña2023\"\n",
            "/opt/otrs/bin/otrs.Console.pl Admin::CustomerUser::Add --user-name virginia.grijalba@comdatagroup.com --first-name Virginia --last-name Grijalba --email-address virginia.grijalba@comdatagroup.com --customer-id \"KONECTA ESPAÑA\"\" --password Konectaespaña2023\"\n",
            "/opt/otrs/bin/otrs.Console.pl Admin::CustomerUser::Add --user-name javier.herrera@comdatagroup.com --first-name \"Luis Javier\" --last-name Herrera --email-address javier.herrera@comdatagroup.com --customer-id \"KONECTA ESPAÑA\"\" --password Konectaespaña2023\"\n",
            "/opt/otrs/bin/otrs.Console.pl Admin::CustomerUser::Add --user-name recepcionviladecans@grupokonecta.com --first-name Recepción --last-name Viladecans --email-address recepcionviladecans@grupokonecta.com --customer-id \"KONECTA ESPAÑA\"\" --password Konectaespaña2023\"\n"
          ]
        }
      ]
    },
    {
      "cell_type": "code",
      "source": [
        "#AGENT VERSION\n",
        "\n",
        "for name, user in names_users:                          #For each name and user set\n",
        "    name_parts = name.split()                           #Split the name field into elements\n",
        "    first_name = name_parts[0]                          #First name will be the first element\n",
        "    last_name = name_parts[-1]                          #Last name will be the last element\n",
        "    if len(name_parts) > 2:                             #If the name field contains 3 elements, 1st name will be the 1st and 2nd element.\n",
        "        first_name = f'\"{name_parts[0]} {name_parts[1]}\"'\n",
        "\n",
        "    command = (\"/opt/otrs/bin/otrs.Console.pl Admin::User::Add\"  #Adding the params to the user add command\n",
        "               #RRHH\n",
        "               f\" --user-name {user} \"\n",
        "               f\" --first-name {first_name}\"\n",
        "               f\" --last-name {last_name}\"\n",
        "               f\" --email-address {user}\"\n",
        "               '\" --password \"Konectaespaña2023\"'\n",
        "               ' --group \"ESPAÑA::ALTA\"'\n",
        "               ' --group \"ESPAÑA::BAJAS\"'\n",
        "               ' --group \"ESPAÑA::CERTIFICADOS\"'\n",
        "               ' --group \"ESPAÑA::EXCEDENCIAS\"'\n",
        "               ' --group \"ESPAÑA::IT\"'\n",
        "               ' --group \"ESPAÑA::MODIFICACION HORARIO\"'\n",
        "               ' --group \"ESPAÑA::NOMINAS\"'\n",
        "               ' --group \"ESPAÑA::OTRAS MODIFICACIONES\"'\n",
        "               ' --group \"ESPAÑA::SOLICITUDES VARIAS\"'\n",
        "               ' --group \"ESPAÑA::TLT\"'\n",
        "               ' --group \"ESPAÑA::ALTA RRLL\"' #RLL\n",
        "               ' --group \"ESPAÑA::AMPLIACION INFORMACION SOLICITUD SANCION\"'\n",
        "               ' --group \"ESPAÑA::AMPLIACIONES DE JORNADA\"'\n",
        "               ' --group \"ESPAÑA::CAMBIOS\"'\n",
        "               ' --group \"ESPAÑA::COMUNICACION VUELTA PRESENCIAL (Autorizacion y comunicación a la RLT)\"'\n",
        "               ' --group \"ESPAÑA::CONCILIACION\"'\n",
        "               ' --group \"ESPAÑA::CONSULTA CUPO\"'\n",
        "               ' --group \"ESPAÑA::CONSULTAS VARIAS\"'\n",
        "               ' --group \"ESPAÑA::COSTES - VALORACION DESPIDO\"'\n",
        "               ' --group \"ESPAÑA::DENEGACION SOLICITUD CATEGORIA\"'\n",
        "               ' --group \"ESPAÑA::ERTE\"'\n",
        "               ' --group \"ESPAÑA::EXTINCION\"'\n",
        "               ' --group \"ESPAÑA::MSCT\"'\n",
        "               ' --group \"ESPAÑA::REVISION CATEGORIA\"'\n",
        "               ' --group \"ESPAÑA::ADMINISTRACION\"'#DIDACTICK ESPAÑA\n",
        "               ' --group \"ESPAÑA::KMOBILITY\"'\n",
        "               ' --group \"ESPAÑA::PROYECTOS CORPORATIVO\"'\n",
        "               ' --group \"ESPAÑA::PROYECTOS LEARNING HUB\"'\n",
        "               ' --group \"ESPAÑA::PROYECTOS NO LEARNING HUB\"')\n",
        "\n",
        "    print(command)"
      ],
      "metadata": {
        "id": "k65OoLI_fwxk",
        "colab": {
          "base_uri": "https://localhost:8080/"
        },
        "outputId": "0c569958-d5d8-41a4-ef6f-e11fafb86566"
      },
      "execution_count": null,
      "outputs": [
        {
          "output_type": "stream",
          "name": "stdout",
          "text": [
            "/opt/otrs/bin/otrs.Console.pl Admin::User::Add --user-name prueba.codigo@comdatagroup.com  --first-name Prueba --last-name Codigo --email-address prueba.codigo@comdatagroup.com\" --password \"Konectaespaña2023\" --group \"ESPAÑA::ALTA\" --group \"ESPAÑA::BAJAS\" --group \"ESPAÑA::CERTIFICADOS\" --group \"ESPAÑA::EXCEDENCIAS\" --group \"ESPAÑA::IT\" --group \"ESPAÑA::MODIFICACION HORARIO\" --group \"ESPAÑA::NOMINAS\" --group \"ESPAÑA::OTRAS MODIFICACIONES\" --group \"ESPAÑA::SOLICITUDES VARIAS\" --group \"ESPAÑA::TLT\" --group \"ESPAÑA::ALTA RRLL\" --group \"ESPAÑA::AMPLIACION INFORMACION SOLICITUD SANCION\" --group \"ESPAÑA::AMPLIACIONES DE JORNADA\" --group \"ESPAÑA::CAMBIOS\" --group \"ESPAÑA::COMUNICACION VUELTA PRESENCIAL (Autorizacion y comunicación a la RLT)\" --group \"ESPAÑA::CONCILIACION\" --group \"ESPAÑA::CONSULTA CUPO\" --group \"ESPAÑA::CONSULTAS VARIAS\" --group \"ESPAÑA::COSTES - VALORACION DESPIDO\" --group \"ESPAÑA::DENEGACION SOLICITUD CATEGORIA\" --group \"ESPAÑA::ERTE\" --group \"ESPAÑA::EXTINCION\" --group \"ESPAÑA::MSCT\" --group \"ESPAÑA::REVISION CATEGORIA\" --group \"ESPAÑA::ADMINISTRACION\" --group \"ESPAÑA::KMOBILITY\" --group \"ESPAÑA::PROYECTOS CORPORATIVO\" --group \"ESPAÑA::PROYECTOS LEARNING HUB\" --group \"ESPAÑA::PROYECTOS NO LEARNING HUB\"\n"
          ]
        }
      ]
    },
    {
      "cell_type": "code",
      "source": [
        "type(command)"
      ],
      "metadata": {
        "colab": {
          "base_uri": "https://localhost:8080/"
        },
        "id": "-r2ARzUEPdkJ",
        "outputId": "597ad848-509f-4b8f-95c0-22d8d5557ef5"
      },
      "execution_count": null,
      "outputs": [
        {
          "output_type": "execute_result",
          "data": {
            "text/plain": [
              "str"
            ]
          },
          "metadata": {},
          "execution_count": 8
        }
      ]
    }
  ]
}